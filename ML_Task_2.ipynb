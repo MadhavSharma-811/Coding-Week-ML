{
 "cells": [
  {
   "cell_type": "code",
   "execution_count": null,
   "id": "b5647c3c",
   "metadata": {},
   "outputs": [],
   "source": [
    "import os\n",
    "from langchain.chat_models import init_chat_model\n",
    "from typing_extensions import TypedDict\n",
    "from langgraph.prebuilt import ToolNode\n",
    "from langgraph.graph import StateGraph, START\n",
    "from langgraph.graph.message import add_messages\n",
    "from simpleeval import simple_eval\n",
    "from typing import Dict\n",
    "from langchain_core.tools import tool\n",
    "\n",
    "\n",
    "os.environ[\"GOOGLE_API_KEY\"] = \"\"\n",
    "\n",
    "llm = init_chat_model(\"google_genai:gemini-2.0-flash\")\n",
    "\n",
    "AgentState = Dict[str, str]\n",
    "\n",
    "def chatbot(state:AgentState)->AgentState:\n",
    "    return {\"message\": [llm.invoke(state[\"message\"])]}\n",
    "graph = StateGraph(AgentState)\n",
    "\n",
    "\n",
    "\n",
    "@tool\n",
    "def mycalc(state: AgentState) -> AgentState:\n",
    "    \"\"\"\n",
    "    A simple calculator tool that evaluates basic math expressions using BODMAS rules.\n",
    "    Input: state[\"message\"] should contain a math expression like '3 + 4 * 2'\n",
    "    Output: state[\"message\"] will be updated with the result as a string.\n",
    "    \"\"\"\n",
    "    try:\n",
    "        allowed = \"0123456789/*+-(). \"\n",
    "        expression = state[\"message\"]\n",
    "\n",
    "        if not all(char in allowed for char in expression):\n",
    "            return {\"message\": \"Invalid characters in expression.\"}\n",
    "        \n",
    "        result = simple_eval(expression)\n",
    "\n",
    "        return {\"message\": str(result)} \n",
    "    except Exception as e:\n",
    "        return {\"message\": f\"Error: {str(e)}\"}\n",
    "    \n",
    "llm_with_tools = llm.bind_tools([mycalc])\n",
    "\n"
   ]
  },
  {
   "cell_type": "code",
   "execution_count": 94,
   "id": "5175acb7",
   "metadata": {},
   "outputs": [],
   "source": [
    "def chatbot(state:AgentState)->AgentState:\n",
    "    return {\"message\":{llm_with_tools.invoke(state[\"message\"])}}"
   ]
  },
  {
   "cell_type": "code",
   "execution_count": 95,
   "id": "9fba3455",
   "metadata": {},
   "outputs": [
    {
     "data": {
      "text/plain": [
       "<langgraph.graph.state.StateGraph at 0x11f4cda28d0>"
      ]
     },
     "execution_count": 95,
     "metadata": {},
     "output_type": "execute_result"
    }
   ],
   "source": [
    "graph.add_node(\"chatbot\",chatbot)"
   ]
  },
  {
   "cell_type": "code",
   "execution_count": 98,
   "id": "421feab8",
   "metadata": {},
   "outputs": [
    {
     "data": {
      "text/plain": [
       "<langgraph.graph.state.StateGraph at 0x11f4cda28d0>"
      ]
     },
     "execution_count": 98,
     "metadata": {},
     "output_type": "execute_result"
    }
   ],
   "source": [
    "graph.add_edge(START,\"chatbot\")"
   ]
  }
 ],
 "metadata": {
  "kernelspec": {
   "display_name": ".venv",
   "language": "python",
   "name": "python3"
  },
  "language_info": {
   "codemirror_mode": {
    "name": "ipython",
    "version": 3
   },
   "file_extension": ".py",
   "mimetype": "text/x-python",
   "name": "python",
   "nbconvert_exporter": "python",
   "pygments_lexer": "ipython3",
   "version": "3.12.4"
  }
 },
 "nbformat": 4,
 "nbformat_minor": 5
}
